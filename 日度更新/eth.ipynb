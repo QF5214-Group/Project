{
 "cells": [
  {
   "cell_type": "markdown",
   "id": "ce4bbaa3-c6c4-4492-8abe-a144567ef20b",
   "metadata": {},
   "source": [
    "## 数据导入\n"
   ]
  },
  {
   "cell_type": "markdown",
   "id": "edf672fe-1b56-4975-84c6-11025748e09f",
   "metadata": {},
   "source": [
    "结合另一个corntab程序每日早上8点自动下载比特币的价格和成交量"
   ]
  },
  {
   "cell_type": "code",
   "execution_count": 1,
   "id": "5ed794a1-bb01-46e6-98ab-52007a9beb1c",
   "metadata": {},
   "outputs": [
    {
     "name": "stdout",
     "output_type": "stream",
     "text": [
      "The history saving thread hit an unexpected error (OperationalError('attempt to write a readonly database')).History will not be written to the database.\n",
      "昨天(09-04-2024)的比特币收盘价格是: $69158.64\n",
      "昨天的成交量是: 36488482038.86\n"
     ]
    }
   ],
   "source": [
    "## 导入数据\n",
    "import requests\n",
    "from datetime import datetime, timedelta\n",
    "\n",
    "def get_yesterday_bitcoin_data():\n",
    "    # CoinGecko API的URL\n",
    "    url = \"https://api.coingecko.com/api/v3/coins/bitcoin/market_chart\"\n",
    "    \n",
    "    # 计算昨天的日期\n",
    "    yesterday = datetime.now() - timedelta(days=1)\n",
    "    yesterday_date = yesterday.strftime('%d-%m-%Y')\n",
    "    \n",
    "    # 设置查询参数，我们获取过去2天的数据，以确保包含昨天的完整数据\n",
    "    params = {\n",
    "        'vs_currency': 'usd',  # 将货币设置为美元\n",
    "        'days': '1',  # 获取过去1天的数据\n",
    "        'interval': 'daily'  # 设置数据间隔为每天\n",
    "    }\n",
    "    \n",
    "    # 发送请求\n",
    "    response = requests.get(url, params=params)\n",
    "    data = response.json()\n",
    "    \n",
    "    # 提取昨天的价格和成交量，data['prices']和data['total_volumes']中的第一个元素应该是昨天的数据\n",
    "    if data['prices'] and data['total_volumes']:\n",
    "        # 价格和成交量的第一个值是时间戳，第二个值是数据\n",
    "        closing_price = data['prices'][0][1]\n",
    "        volume = data['total_volumes'][0][1]\n",
    "        print(f\"昨天({yesterday_date})的比特币收盘价格是: ${closing_price:.2f}\")\n",
    "        print(f\"昨天的成交量是: {volume:.2f}\")\n",
    "    else:\n",
    "        print(\"无法获取数据。\")\n",
    "\n",
    "get_yesterday_bitcoin_data()\n",
    "\n",
    "\n"
   ]
  },
  {
   "cell_type": "code",
   "execution_count": null,
   "id": "0c6636f8-4851-46fa-ab9b-3815f6a53e1a",
   "metadata": {},
   "outputs": [],
   "source": []
  }
 ],
 "metadata": {
  "kernelspec": {
   "display_name": "Python 3 (ipykernel)",
   "language": "python",
   "name": "python3"
  },
  "language_info": {
   "codemirror_mode": {
    "name": "ipython",
    "version": 3
   },
   "file_extension": ".py",
   "mimetype": "text/x-python",
   "name": "python",
   "nbconvert_exporter": "python",
   "pygments_lexer": "ipython3",
   "version": "3.10.12"
  }
 },
 "nbformat": 4,
 "nbformat_minor": 5
}
